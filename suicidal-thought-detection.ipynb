{
 "cells": [
  {
   "cell_type": "code",
   "execution_count": 2,
   "id": "55f668f7",
   "metadata": {},
   "outputs": [
    {
     "name": "stdout",
     "output_type": "stream",
     "text": [
      "Defaulting to user installation because normal site-packages is not writeable\n",
      "Collecting wordcloud\n",
      "  Using cached wordcloud-1.8.2.2-cp39-cp39-win_amd64.whl (153 kB)\n",
      "Requirement already satisfied: matplotlib in c:\\programdata\\anaconda3\\lib\\site-packages (from wordcloud) (3.5.2)\n",
      "Requirement already satisfied: pillow in c:\\programdata\\anaconda3\\lib\\site-packages (from wordcloud) (9.2.0)\n",
      "Requirement already satisfied: numpy>=1.6.1 in c:\\programdata\\anaconda3\\lib\\site-packages (from wordcloud) (1.21.5)\n",
      "Requirement already satisfied: pyparsing>=2.2.1 in c:\\programdata\\anaconda3\\lib\\site-packages (from matplotlib->wordcloud) (3.0.9)\n",
      "Requirement already satisfied: fonttools>=4.22.0 in c:\\programdata\\anaconda3\\lib\\site-packages (from matplotlib->wordcloud) (4.25.0)\n",
      "Requirement already satisfied: packaging>=20.0 in c:\\programdata\\anaconda3\\lib\\site-packages (from matplotlib->wordcloud) (21.3)\n",
      "Requirement already satisfied: python-dateutil>=2.7 in c:\\programdata\\anaconda3\\lib\\site-packages (from matplotlib->wordcloud) (2.8.2)\n",
      "Requirement already satisfied: cycler>=0.10 in c:\\programdata\\anaconda3\\lib\\site-packages (from matplotlib->wordcloud) (0.11.0)\n",
      "Requirement already satisfied: kiwisolver>=1.0.1 in c:\\programdata\\anaconda3\\lib\\site-packages (from matplotlib->wordcloud) (1.4.2)\n",
      "Requirement already satisfied: six>=1.5 in c:\\programdata\\anaconda3\\lib\\site-packages (from python-dateutil>=2.7->matplotlib->wordcloud) (1.16.0)\n",
      "Installing collected packages: wordcloud\n",
      "Successfully installed wordcloud-1.8.2.2\n"
     ]
    },
    {
     "name": "stderr",
     "output_type": "stream",
     "text": [
      "  WARNING: The script wordcloud_cli.exe is installed in 'C:\\Users\\shora\\AppData\\Roaming\\Python\\Python39\\Scripts' which is not on PATH.\n",
      "  Consider adding this directory to PATH or, if you prefer to suppress this warning, use --no-warn-script-location.\n"
     ]
    }
   ],
   "source": [
    "!pip install wordcloud"
   ]
  },
  {
   "cell_type": "code",
   "execution_count": 1,
   "id": "81584048",
   "metadata": {
    "execution": {
     "iopub.execute_input": "2021-07-13T18:04:45.292858Z",
     "iopub.status.busy": "2021-07-13T18:04:45.291818Z",
     "iopub.status.idle": "2021-07-13T18:05:05.456811Z",
     "shell.execute_reply": "2021-07-13T18:05:05.456063Z",
     "shell.execute_reply.started": "2021-07-13T17:49:33.581732Z"
    },
    "papermill": {
     "duration": 20.330944,
     "end_time": "2021-07-13T18:05:05.456984",
     "exception": false,
     "start_time": "2021-07-13T18:04:45.126040",
     "status": "completed"
    },
    "tags": []
   },
   "outputs": [
    {
     "name": "stdout",
     "output_type": "stream",
     "text": [
      "Defaulting to user installation because normal site-packages is not writeable\n",
      "Requirement already satisfied: neattext in c:\\users\\shora\\appdata\\roaming\\python\\python39\\site-packages (0.1.3)\n"
     ]
    }
   ],
   "source": [
    "from wordcloud import WordCloud\n",
    "import numpy as np \n",
    "import pandas as pd\n",
    "from sklearn.model_selection import train_test_split\n",
    "!pip install neattext\n",
    "import neattext.functions as nfx\n",
    "import matplotlib.pyplot as plt\n",
    "import plotly.express as plx\n",
    "from sklearn.metrics import classification_report\n",
    "import keras\n",
    "from keras.layers import Embedding,Dense,LSTM,Bidirectional,GlobalMaxPooling1D,Input,Dropout\n",
    "from keras.callbacks import EarlyStopping,ReduceLROnPlateau\n",
    "from keras.models import Sequential\n",
    "import tensorflow as tf\n",
    "from sklearn.preprocessing import LabelEncoder\n",
    "from keras.preprocessing.text import Tokenizer"
   ]
  },
  {
   "cell_type": "code",
   "execution_count": 2,
   "id": "25cd0600",
   "metadata": {},
   "outputs": [],
   "source": [
    "from keras.utils import pad_sequences\n",
    "from tqdm import tqdm\n",
    "import seaborn as sns\n",
    "import pickle\n",
    "import warnings\n",
    "warnings.filterwarnings('ignore')"
   ]
  },
  {
   "cell_type": "code",
   "execution_count": 3,
   "id": "4a162fb7",
   "metadata": {
    "execution": {
     "iopub.execute_input": "2021-07-13T18:05:05.528136Z",
     "iopub.status.busy": "2021-07-13T18:05:05.527493Z",
     "iopub.status.idle": "2021-07-13T18:05:09.704390Z",
     "shell.execute_reply": "2021-07-13T18:05:09.703759Z",
     "shell.execute_reply.started": "2021-07-13T17:49:48.142738Z"
    },
    "papermill": {
     "duration": 4.214542,
     "end_time": "2021-07-13T18:05:09.704601",
     "exception": false,
     "start_time": "2021-07-13T18:05:05.490059",
     "status": "completed"
    },
    "tags": []
   },
   "outputs": [
    {
     "data": {
      "text/html": [
       "<div>\n",
       "<style scoped>\n",
       "    .dataframe tbody tr th:only-of-type {\n",
       "        vertical-align: middle;\n",
       "    }\n",
       "\n",
       "    .dataframe tbody tr th {\n",
       "        vertical-align: top;\n",
       "    }\n",
       "\n",
       "    .dataframe thead th {\n",
       "        text-align: right;\n",
       "    }\n",
       "</style>\n",
       "<table border=\"1\" class=\"dataframe\">\n",
       "  <thead>\n",
       "    <tr style=\"text-align: right;\">\n",
       "      <th></th>\n",
       "      <th>Unnamed: 0.2</th>\n",
       "      <th>Unnamed: 0.1</th>\n",
       "      <th>Unnamed: 0</th>\n",
       "      <th>text</th>\n",
       "      <th>class</th>\n",
       "    </tr>\n",
       "  </thead>\n",
       "  <tbody>\n",
       "    <tr>\n",
       "      <th>0</th>\n",
       "      <td>1</td>\n",
       "      <td>1</td>\n",
       "      <td>3</td>\n",
       "      <td>Am I weird I don't get affected by compliments...</td>\n",
       "      <td>non-suicide</td>\n",
       "    </tr>\n",
       "    <tr>\n",
       "      <th>1</th>\n",
       "      <td>2</td>\n",
       "      <td>2</td>\n",
       "      <td>4</td>\n",
       "      <td>Finally 2020 is almost over... So I can never ...</td>\n",
       "      <td>non-suicide</td>\n",
       "    </tr>\n",
       "    <tr>\n",
       "      <th>2</th>\n",
       "      <td>3</td>\n",
       "      <td>3</td>\n",
       "      <td>8</td>\n",
       "      <td>i need helpjust help me im crying so hard</td>\n",
       "      <td>suicide</td>\n",
       "    </tr>\n",
       "    <tr>\n",
       "      <th>3</th>\n",
       "      <td>4</td>\n",
       "      <td>4</td>\n",
       "      <td>9</td>\n",
       "      <td>Oh Fuck! can't take this anymore.I am tired of...</td>\n",
       "      <td>suicide</td>\n",
       "    </tr>\n",
       "    <tr>\n",
       "      <th>4</th>\n",
       "      <td>5</td>\n",
       "      <td>5</td>\n",
       "      <td>11</td>\n",
       "      <td>I am gonna hurt myself</td>\n",
       "      <td>suicide</td>\n",
       "    </tr>\n",
       "  </tbody>\n",
       "</table>\n",
       "</div>"
      ],
      "text/plain": [
       "   Unnamed: 0.2  Unnamed: 0.1  Unnamed: 0  \\\n",
       "0             1             1           3   \n",
       "1             2             2           4   \n",
       "2             3             3           8   \n",
       "3             4             4           9   \n",
       "4             5             5          11   \n",
       "\n",
       "                                                text        class  \n",
       "0  Am I weird I don't get affected by compliments...  non-suicide  \n",
       "1  Finally 2020 is almost over... So I can never ...  non-suicide  \n",
       "2          i need helpjust help me im crying so hard      suicide  \n",
       "3  Oh Fuck! can't take this anymore.I am tired of...      suicide  \n",
       "4                             I am gonna hurt myself      suicide  "
      ]
     },
     "execution_count": 3,
     "metadata": {},
     "output_type": "execute_result"
    }
   ],
   "source": [
    "data=pd.read_csv('short.csv')\n",
    "data.head()"
   ]
  },
  {
   "cell_type": "code",
   "execution_count": 4,
   "id": "12b1b1fd",
   "metadata": {},
   "outputs": [
    {
     "data": {
      "text/html": [
       "<div>\n",
       "<style scoped>\n",
       "    .dataframe tbody tr th:only-of-type {\n",
       "        vertical-align: middle;\n",
       "    }\n",
       "\n",
       "    .dataframe tbody tr th {\n",
       "        vertical-align: top;\n",
       "    }\n",
       "\n",
       "    .dataframe thead th {\n",
       "        text-align: right;\n",
       "    }\n",
       "</style>\n",
       "<table border=\"1\" class=\"dataframe\">\n",
       "  <thead>\n",
       "    <tr style=\"text-align: right;\">\n",
       "      <th></th>\n",
       "      <th>Unnamed: 0.2</th>\n",
       "      <th>text</th>\n",
       "      <th>class</th>\n",
       "    </tr>\n",
       "  </thead>\n",
       "  <tbody>\n",
       "    <tr>\n",
       "      <th>0</th>\n",
       "      <td>1</td>\n",
       "      <td>Am I weird I don't get affected by compliments...</td>\n",
       "      <td>non-suicide</td>\n",
       "    </tr>\n",
       "    <tr>\n",
       "      <th>1</th>\n",
       "      <td>2</td>\n",
       "      <td>Finally 2020 is almost over... So I can never ...</td>\n",
       "      <td>non-suicide</td>\n",
       "    </tr>\n",
       "    <tr>\n",
       "      <th>2</th>\n",
       "      <td>3</td>\n",
       "      <td>i need helpjust help me im crying so hard</td>\n",
       "      <td>suicide</td>\n",
       "    </tr>\n",
       "    <tr>\n",
       "      <th>3</th>\n",
       "      <td>4</td>\n",
       "      <td>Oh Fuck! can't take this anymore.I am tired of...</td>\n",
       "      <td>suicide</td>\n",
       "    </tr>\n",
       "    <tr>\n",
       "      <th>4</th>\n",
       "      <td>5</td>\n",
       "      <td>I am gonna hurt myself</td>\n",
       "      <td>suicide</td>\n",
       "    </tr>\n",
       "  </tbody>\n",
       "</table>\n",
       "</div>"
      ],
      "text/plain": [
       "   Unnamed: 0.2                                               text  \\\n",
       "0             1  Am I weird I don't get affected by compliments...   \n",
       "1             2  Finally 2020 is almost over... So I can never ...   \n",
       "2             3          i need helpjust help me im crying so hard   \n",
       "3             4  Oh Fuck! can't take this anymore.I am tired of...   \n",
       "4             5                             I am gonna hurt myself   \n",
       "\n",
       "         class  \n",
       "0  non-suicide  \n",
       "1  non-suicide  \n",
       "2      suicide  \n",
       "3      suicide  \n",
       "4      suicide  "
      ]
     },
     "execution_count": 4,
     "metadata": {},
     "output_type": "execute_result"
    }
   ],
   "source": [
    "data=data.drop([\"Unnamed: 0.1\",\"Unnamed: 0\"], axis=1)\n",
    "data.head()"
   ]
  },
  {
   "cell_type": "code",
   "execution_count": 5,
   "id": "b85ce594",
   "metadata": {
    "execution": {
     "iopub.execute_input": "2021-07-13T18:05:09.820847Z",
     "iopub.status.busy": "2021-07-13T18:05:09.819762Z",
     "iopub.status.idle": "2021-07-13T18:05:09.827896Z",
     "shell.execute_reply": "2021-07-13T18:05:09.827381Z",
     "shell.execute_reply.started": "2021-07-13T17:49:52.146681Z"
    },
    "papermill": {
     "duration": 0.090246,
     "end_time": "2021-07-13T18:05:09.828032",
     "exception": false,
     "start_time": "2021-07-13T18:05:09.737786",
     "status": "completed"
    },
    "tags": []
   },
   "outputs": [
    {
     "data": {
      "text/plain": [
       "non-suicide    55200\n",
       "suicide        26442\n",
       "Name: class, dtype: int64"
      ]
     },
     "execution_count": 5,
     "metadata": {},
     "output_type": "execute_result"
    }
   ],
   "source": [
    "data['class'].value_counts()"
   ]
  },
  {
   "cell_type": "code",
   "execution_count": 6,
   "id": "cb52f050",
   "metadata": {
    "execution": {
     "iopub.execute_input": "2021-07-13T18:05:10.012224Z",
     "iopub.status.busy": "2021-07-13T18:05:10.011153Z",
     "iopub.status.idle": "2021-07-13T18:05:10.021918Z",
     "shell.execute_reply": "2021-07-13T18:05:10.023275Z",
     "shell.execute_reply.started": "2021-07-13T17:49:52.201961Z"
    },
    "papermill": {
     "duration": 0.148726,
     "end_time": "2021-07-13T18:05:10.023963",
     "exception": false,
     "start_time": "2021-07-13T18:05:09.875237",
     "status": "completed"
    },
    "tags": []
   },
   "outputs": [
    {
     "data": {
      "text/plain": [
       "array(['non-suicide', 'suicide'], dtype=object)"
      ]
     },
     "execution_count": 6,
     "metadata": {},
     "output_type": "execute_result"
    }
   ],
   "source": [
    "data['class'].value_counts().index.values"
   ]
  },
  {
   "cell_type": "code",
   "execution_count": 7,
   "id": "1523d513",
   "metadata": {
    "execution": {
     "iopub.execute_input": "2021-07-13T18:05:10.262255Z",
     "iopub.status.busy": "2021-07-13T18:05:10.261358Z",
     "iopub.status.idle": "2021-07-13T18:05:10.306203Z",
     "shell.execute_reply": "2021-07-13T18:05:10.307075Z",
     "shell.execute_reply.started": "2021-07-13T17:49:52.253398Z"
    },
    "papermill": {
     "duration": 0.115171,
     "end_time": "2021-07-13T18:05:10.307369",
     "exception": false,
     "start_time": "2021-07-13T18:05:10.192198",
     "status": "completed"
    },
    "tags": []
   },
   "outputs": [],
   "source": [
    "train_data,test_data=train_test_split(data,test_size=0.2,random_state=10)"
   ]
  },
  {
   "cell_type": "code",
   "execution_count": 8,
   "id": "5ec44fe5",
   "metadata": {
    "execution": {
     "iopub.execute_input": "2021-07-13T18:05:10.592844Z",
     "iopub.status.busy": "2021-07-13T18:05:10.591689Z",
     "iopub.status.idle": "2021-07-13T18:05:10.602783Z",
     "shell.execute_reply": "2021-07-13T18:05:10.601907Z",
     "shell.execute_reply.started": "2021-07-13T17:49:52.299013Z"
    },
    "papermill": {
     "duration": 0.119297,
     "end_time": "2021-07-13T18:05:10.602970",
     "exception": false,
     "start_time": "2021-07-13T18:05:10.483673",
     "status": "completed"
    },
    "tags": []
   },
   "outputs": [
    {
     "data": {
      "text/plain": [
       "array(['non-suicide', 'suicide'], dtype=object)"
      ]
     },
     "execution_count": 8,
     "metadata": {},
     "output_type": "execute_result"
    }
   ],
   "source": [
    "train_data['class'].value_counts().index.values"
   ]
  },
  {
   "cell_type": "code",
   "execution_count": 9,
   "id": "737e3517",
   "metadata": {
    "execution": {
     "iopub.execute_input": "2021-07-13T18:05:12.591952Z",
     "iopub.status.busy": "2021-07-13T18:05:12.591122Z",
     "iopub.status.idle": "2021-07-13T18:05:12.595320Z",
     "shell.execute_reply": "2021-07-13T18:05:12.594730Z",
     "shell.execute_reply.started": "2021-07-13T17:49:53.565586Z"
    },
    "papermill": {
     "duration": 0.045394,
     "end_time": "2021-07-13T18:05:12.595503",
     "exception": false,
     "start_time": "2021-07-13T18:05:12.550109",
     "status": "completed"
    },
    "tags": []
   },
   "outputs": [],
   "source": [
    "\n",
    "def clean_text(text):\n",
    "    text_length=[]\n",
    "    cleaned_text=[]\n",
    "    for sent in tqdm(text):\n",
    "        sent=sent.lower()\n",
    "        sent=nfx.remove_special_characters(sent)\n",
    "        sent=nfx.remove_stopwords(sent)\n",
    "#         sent=nfx.remove_shortwords(sent)\n",
    "        text_length.append(len(sent.split()))\n",
    "        cleaned_text.append(sent)\n",
    "    return cleaned_text,text_length"
   ]
  },
  {
   "cell_type": "code",
   "execution_count": 10,
   "id": "5d8c0cb2",
   "metadata": {
    "execution": {
     "iopub.execute_input": "2021-07-13T18:05:12.671103Z",
     "iopub.status.busy": "2021-07-13T18:05:12.670449Z",
     "iopub.status.idle": "2021-07-13T18:05:30.895929Z",
     "shell.execute_reply": "2021-07-13T18:05:30.896632Z",
     "shell.execute_reply.started": "2021-07-13T17:49:53.573249Z"
    },
    "papermill": {
     "duration": 18.266118,
     "end_time": "2021-07-13T18:05:30.896810",
     "exception": false,
     "start_time": "2021-07-13T18:05:12.630692",
     "status": "completed"
    },
    "tags": []
   },
   "outputs": [
    {
     "name": "stderr",
     "output_type": "stream",
     "text": [
      "100%|██████████| 65313/65313 [00:01<00:00, 55918.05it/s]\n",
      "100%|██████████| 16329/16329 [00:00<00:00, 52006.72it/s]\n"
     ]
    }
   ],
   "source": [
    "cleaned_train_text,train_text_length=clean_text(train_data.text)\n",
    "cleaned_test_text,test_text_length=clean_text(test_data.text)"
   ]
  },
  {
   "cell_type": "code",
   "execution_count": 11,
   "id": "544b1735",
   "metadata": {
    "execution": {
     "iopub.execute_input": "2021-07-13T18:05:32.956449Z",
     "iopub.status.busy": "2021-07-13T18:05:32.953134Z",
     "iopub.status.idle": "2021-07-13T18:05:44.489940Z",
     "shell.execute_reply": "2021-07-13T18:05:44.488911Z",
     "shell.execute_reply.started": "2021-07-13T17:50:10.981109Z"
    },
    "papermill": {
     "duration": 11.666605,
     "end_time": "2021-07-13T18:05:44.490089",
     "exception": false,
     "start_time": "2021-07-13T18:05:32.823484",
     "status": "completed"
    },
    "tags": []
   },
   "outputs": [],
   "source": [
    "tokenizer=Tokenizer()\n",
    "tokenizer.fit_on_texts(cleaned_train_text)"
   ]
  },
  {
   "cell_type": "code",
   "execution_count": 12,
   "id": "04ff6e3e",
   "metadata": {
    "execution": {
     "iopub.execute_input": "2021-07-13T18:05:44.827629Z",
     "iopub.status.busy": "2021-07-13T18:05:44.812934Z",
     "iopub.status.idle": "2021-07-13T18:05:44.974295Z",
     "shell.execute_reply": "2021-07-13T18:05:44.973726Z",
     "shell.execute_reply.started": "2021-07-13T17:50:19.963911Z"
    },
    "papermill": {
     "duration": 0.384889,
     "end_time": "2021-07-13T18:05:44.974462",
     "exception": false,
     "start_time": "2021-07-13T18:05:44.589573",
     "status": "completed"
    },
    "tags": []
   },
   "outputs": [],
   "source": [
    "word_freq=pd.DataFrame(tokenizer.word_counts.items(),columns=['word','count']).sort_values(by='count',ascending=False)"
   ]
  },
  {
   "cell_type": "code",
   "execution_count": 13,
   "id": "bc26e348",
   "metadata": {},
   "outputs": [],
   "source": [
    "train_text_seq=tokenizer.texts_to_sequences(cleaned_train_text)\n",
    "train_text_pad=pad_sequences(train_text_seq,maxlen=50)\n",
    "\n",
    "\n",
    "test_text_seq=tokenizer.texts_to_sequences(cleaned_test_text)\n",
    "test_text_pad=pad_sequences(test_text_seq,maxlen=50)"
   ]
  },
  {
   "cell_type": "code",
   "execution_count": 14,
   "id": "84ca66a2",
   "metadata": {
    "execution": {
     "iopub.execute_input": "2021-07-13T18:05:59.582550Z",
     "iopub.status.busy": "2021-07-13T18:05:59.528178Z",
     "iopub.status.idle": "2021-07-13T18:05:59.585723Z",
     "shell.execute_reply": "2021-07-13T18:05:59.585136Z",
     "shell.execute_reply.started": "2021-07-13T17:50:32.066350Z"
    },
    "papermill": {
     "duration": 0.183487,
     "end_time": "2021-07-13T18:05:59.585884",
     "exception": false,
     "start_time": "2021-07-13T18:05:59.402397",
     "status": "completed"
    },
    "tags": []
   },
   "outputs": [],
   "source": [
    "lbl_target=LabelEncoder()\n",
    "train_output=lbl_target.fit_transform(train_data['class'])\n",
    "test_output=lbl_target.transform(test_data['class'])"
   ]
  },
  {
   "cell_type": "code",
   "execution_count": 15,
   "id": "cd41cd47",
   "metadata": {
    "execution": {
     "iopub.execute_input": "2021-07-13T18:06:00.039190Z",
     "iopub.status.busy": "2021-07-13T18:06:00.038526Z",
     "iopub.status.idle": "2021-07-13T18:06:36.867368Z",
     "shell.execute_reply": "2021-07-13T18:06:36.867898Z",
     "shell.execute_reply.started": "2021-07-13T17:50:32.134901Z"
    },
    "papermill": {
     "duration": 36.944245,
     "end_time": "2021-07-13T18:06:36.868088",
     "exception": false,
     "start_time": "2021-07-13T18:05:59.923843",
     "status": "completed"
    },
    "tags": []
   },
   "outputs": [],
   "source": [
    "# glove_embedding={}\n",
    "with open('glove.840B.300d.pkl', 'rb') as fp:\n",
    "    glove_embedding = pickle.load(fp)"
   ]
  },
  {
   "cell_type": "code",
   "execution_count": 16,
   "id": "ac8fe60a",
   "metadata": {
    "execution": {
     "iopub.execute_input": "2021-07-13T18:06:37.100434Z",
     "iopub.status.busy": "2021-07-13T18:06:37.099371Z",
     "iopub.status.idle": "2021-07-13T18:06:37.623156Z",
     "shell.execute_reply": "2021-07-13T18:06:37.622581Z",
     "shell.execute_reply.started": "2021-07-13T17:50:54.908025Z"
    },
    "papermill": {
     "duration": 0.642546,
     "end_time": "2021-07-13T18:06:37.623345",
     "exception": false,
     "start_time": "2021-07-13T18:06:36.980799",
     "status": "completed"
    },
    "tags": []
   },
   "outputs": [],
   "source": [
    "v=len(tokenizer.word_index)\n",
    "\n",
    "embedding_matrix=np.zeros((v+1,300), dtype=float)\n",
    "for word,idx in tokenizer.word_index.items():\n",
    "    embedding_vector=glove_embedding.get(word)\n",
    "    if embedding_vector is not None:\n",
    "        embedding_matrix[idx]=embedding_vector"
   ]
  },
  {
   "cell_type": "code",
   "execution_count": 17,
   "id": "bbfaec54",
   "metadata": {
    "execution": {
     "iopub.execute_input": "2021-07-13T18:06:37.849856Z",
     "iopub.status.busy": "2021-07-13T18:06:37.848990Z",
     "iopub.status.idle": "2021-07-13T18:06:37.853419Z",
     "shell.execute_reply": "2021-07-13T18:06:37.852847Z",
     "shell.execute_reply.started": "2021-07-13T17:50:55.410133Z"
    },
    "papermill": {
     "duration": 0.120284,
     "end_time": "2021-07-13T18:06:37.853558",
     "exception": false,
     "start_time": "2021-07-13T18:06:37.733274",
     "status": "completed"
    },
    "tags": []
   },
   "outputs": [],
   "source": [
    "early_stop=EarlyStopping(patience=5)\n",
    "reducelr=ReduceLROnPlateau(patience=3)"
   ]
  },
  {
   "cell_type": "code",
   "execution_count": 18,
   "id": "a2963097",
   "metadata": {
    "execution": {
     "iopub.execute_input": "2021-07-13T18:06:38.311082Z",
     "iopub.status.busy": "2021-07-13T18:06:38.310238Z",
     "iopub.status.idle": "2021-07-13T18:06:42.769014Z",
     "shell.execute_reply": "2021-07-13T18:06:42.768433Z",
     "shell.execute_reply.started": "2021-07-13T17:50:55.416237Z"
    },
    "papermill": {
     "duration": 4.582121,
     "end_time": "2021-07-13T18:06:42.769198",
     "exception": false,
     "start_time": "2021-07-13T18:06:38.187077",
     "status": "completed"
    },
    "tags": []
   },
   "outputs": [],
   "source": [
    "suicide_model=Sequential()\n",
    "suicide_model.add(Input(shape=(50,)))\n",
    "suicide_model.add(Embedding(v+1,300,weights=[embedding_matrix],trainable=False))\n",
    "suicide_model.add(LSTM(20,return_sequences=True))\n",
    "suicide_model.add(GlobalMaxPooling1D())\n",
    "#     model.add(Dropout(0.3))\n",
    "suicide_model.add(Dense(256,activation='relu'))\n",
    "#     model.add(Dropout(0.2))\n",
    "suicide_model.add(Dense(1,activation='sigmoid'))\n",
    "suicide_model.compile(optimizer=keras.optimizers.SGD(0.05,momentum=0.09),loss='binary_crossentropy',metrics=['accuracy'])"
   ]
  },
  {
   "cell_type": "code",
   "execution_count": 19,
   "id": "98a3bae9",
   "metadata": {},
   "outputs": [
    {
     "name": "stdout",
     "output_type": "stream",
     "text": [
      "Epoch 1/20\n",
      "1021/1021 [==============================] - 35s 30ms/step - loss: 0.3430 - accuracy: 0.8476 - val_loss: 0.2400 - val_accuracy: 0.9032 - lr: 0.0500\n",
      "Epoch 2/20\n",
      "1021/1021 [==============================] - 34s 34ms/step - loss: 0.2086 - accuracy: 0.9153 - val_loss: 0.2044 - val_accuracy: 0.9157 - lr: 0.0500\n",
      "Epoch 3/20\n",
      "1021/1021 [==============================] - 35s 34ms/step - loss: 0.1846 - accuracy: 0.9255 - val_loss: 0.1907 - val_accuracy: 0.9227 - lr: 0.0500\n",
      "Epoch 4/20\n",
      "1021/1021 [==============================] - 34s 34ms/step - loss: 0.1671 - accuracy: 0.9343 - val_loss: 0.2006 - val_accuracy: 0.9188 - lr: 0.0500\n",
      "Epoch 5/20\n",
      "1021/1021 [==============================] - 36s 35ms/step - loss: 0.1532 - accuracy: 0.9400 - val_loss: 0.2379 - val_accuracy: 0.9100 - lr: 0.0500\n",
      "Epoch 6/20\n",
      "1021/1021 [==============================] - 34s 33ms/step - loss: 0.1432 - accuracy: 0.9444 - val_loss: 0.1714 - val_accuracy: 0.9303 - lr: 0.0500\n",
      "Epoch 7/20\n",
      "1021/1021 [==============================] - 33s 33ms/step - loss: 0.1361 - accuracy: 0.9468 - val_loss: 0.1755 - val_accuracy: 0.9307 - lr: 0.0500\n",
      "Epoch 8/20\n",
      "1021/1021 [==============================] - 34s 33ms/step - loss: 0.1298 - accuracy: 0.9488 - val_loss: 0.1716 - val_accuracy: 0.9321 - lr: 0.0500\n",
      "Epoch 9/20\n",
      "1021/1021 [==============================] - 34s 33ms/step - loss: 0.1242 - accuracy: 0.9518 - val_loss: 0.1695 - val_accuracy: 0.9313 - lr: 0.0500\n",
      "Epoch 10/20\n",
      "1021/1021 [==============================] - 34s 34ms/step - loss: 0.1196 - accuracy: 0.9533 - val_loss: 0.1698 - val_accuracy: 0.9317 - lr: 0.0500\n",
      "Epoch 11/20\n",
      "1021/1021 [==============================] - 35s 35ms/step - loss: 0.1149 - accuracy: 0.9547 - val_loss: 0.1630 - val_accuracy: 0.9344 - lr: 0.0500\n",
      "Epoch 12/20\n",
      "1021/1021 [==============================] - 34s 33ms/step - loss: 0.1119 - accuracy: 0.9564 - val_loss: 0.1724 - val_accuracy: 0.9321 - lr: 0.0500\n",
      "Epoch 13/20\n",
      "1021/1021 [==============================] - 35s 34ms/step - loss: 0.1086 - accuracy: 0.9572 - val_loss: 0.1724 - val_accuracy: 0.9320 - lr: 0.0500\n",
      "Epoch 14/20\n",
      "1021/1021 [==============================] - 34s 34ms/step - loss: 0.1050 - accuracy: 0.9594 - val_loss: 0.1692 - val_accuracy: 0.9350 - lr: 0.0500\n",
      "Epoch 15/20\n",
      "1021/1021 [==============================] - 34s 34ms/step - loss: 0.0956 - accuracy: 0.9636 - val_loss: 0.1727 - val_accuracy: 0.9340 - lr: 0.0050\n",
      "Epoch 16/20\n",
      "1021/1021 [==============================] - 34s 34ms/step - loss: 0.0948 - accuracy: 0.9639 - val_loss: 0.1730 - val_accuracy: 0.9349 - lr: 0.0050\n"
     ]
    }
   ],
   "source": [
    "r=suicide_model.fit(train_text_pad,train_output,validation_data=(test_text_pad,test_output),\n",
    "            epochs=20,batch_size=64,callbacks=[early_stop,reducelr])"
   ]
  },
  {
   "cell_type": "code",
   "execution_count": 21,
   "id": "d599cdce",
   "metadata": {
    "scrolled": true
   },
   "outputs": [
    {
     "name": "stderr",
     "output_type": "stream",
     "text": [
      "100%|██████████| 1/1 [00:00<00:00, 1005.11it/s]"
     ]
    },
    {
     "name": "stdout",
     "output_type": "stream",
     "text": [
      "1/1 [==============================] - 0s 38ms/step\n"
     ]
    },
    {
     "name": "stderr",
     "output_type": "stream",
     "text": [
      "\n"
     ]
    },
    {
     "data": {
      "text/plain": [
       "0"
      ]
     },
     "execution_count": 21,
     "metadata": {},
     "output_type": "execute_result"
    }
   ],
   "source": [
    "def detectSuicide(text):\n",
    "    cleaned_text, length = clean_text(text)\n",
    "    tokens = tokenizer.texts_to_sequences(cleaned_text)\n",
    "    paded = pad_sequences(tokens,maxlen=50)\n",
    "    if suicide_model.predict([paded]) >=0.50:\n",
    "#         print(\"contains suicidal thoughts\")\n",
    "#         print(suicide_model.predict([paded]))\n",
    "        return 0\n",
    "    else:\n",
    "#         print(\"Doesn't contains suicidal thoughts\")\n",
    "#         print(suicide_model.predict([paded]))\n",
    "        return 1\n",
    "detectSuicide([\"I don't want to live anymore\"])"
   ]
  },
  {
   "cell_type": "code",
   "execution_count": 25,
   "id": "b423fde7",
   "metadata": {
    "scrolled": true
   },
   "outputs": [
    {
     "name": "stdout",
     "output_type": "stream",
     "text": [
      "Defaulting to user installation because normal site-packages is not writeable\n",
      "Collecting transformers\n",
      "  Downloading transformers-4.27.4-py3-none-any.whl (6.8 MB)\n",
      "     ---------------------------------------- 6.8/6.8 MB 2.8 MB/s eta 0:00:00\n",
      "Requirement already satisfied: numpy>=1.17 in c:\\programdata\\anaconda3\\lib\\site-packages (from transformers) (1.21.5)\n",
      "Requirement already satisfied: packaging>=20.0 in c:\\programdata\\anaconda3\\lib\\site-packages (from transformers) (21.3)\n",
      "Collecting huggingface-hub<1.0,>=0.11.0\n",
      "  Downloading huggingface_hub-0.13.3-py3-none-any.whl (199 kB)\n",
      "     -------------------------------------- 199.8/199.8 kB 2.4 MB/s eta 0:00:00\n",
      "Requirement already satisfied: tqdm>=4.27 in c:\\programdata\\anaconda3\\lib\\site-packages (from transformers) (4.64.1)\n",
      "Requirement already satisfied: regex!=2019.12.17 in c:\\programdata\\anaconda3\\lib\\site-packages (from transformers) (2022.7.9)\n",
      "Collecting tokenizers!=0.11.3,<0.14,>=0.11.1\n",
      "  Downloading tokenizers-0.13.2-cp39-cp39-win_amd64.whl (3.3 MB)\n",
      "     ---------------------------------------- 3.3/3.3 MB 2.8 MB/s eta 0:00:00\n",
      "Requirement already satisfied: requests in c:\\programdata\\anaconda3\\lib\\site-packages (from transformers) (2.28.1)\n",
      "Requirement already satisfied: pyyaml>=5.1 in c:\\programdata\\anaconda3\\lib\\site-packages (from transformers) (6.0)\n",
      "Requirement already satisfied: filelock in c:\\programdata\\anaconda3\\lib\\site-packages (from transformers) (3.6.0)\n",
      "Requirement already satisfied: typing-extensions>=3.7.4.3 in c:\\programdata\\anaconda3\\lib\\site-packages (from huggingface-hub<1.0,>=0.11.0->transformers) (4.3.0)\n",
      "Requirement already satisfied: pyparsing!=3.0.5,>=2.0.2 in c:\\programdata\\anaconda3\\lib\\site-packages (from packaging>=20.0->transformers) (3.0.9)\n",
      "Requirement already satisfied: colorama in c:\\programdata\\anaconda3\\lib\\site-packages (from tqdm>=4.27->transformers) (0.4.5)\n",
      "Requirement already satisfied: urllib3<1.27,>=1.21.1 in c:\\programdata\\anaconda3\\lib\\site-packages (from requests->transformers) (1.26.11)\n",
      "Requirement already satisfied: certifi>=2017.4.17 in c:\\programdata\\anaconda3\\lib\\site-packages (from requests->transformers) (2022.9.14)\n",
      "Requirement already satisfied: charset-normalizer<3,>=2 in c:\\programdata\\anaconda3\\lib\\site-packages (from requests->transformers) (2.0.4)\n",
      "Requirement already satisfied: idna<4,>=2.5 in c:\\programdata\\anaconda3\\lib\\site-packages (from requests->transformers) (3.3)\n",
      "Installing collected packages: tokenizers, huggingface-hub, transformers\n",
      "Successfully installed huggingface-hub-0.13.3 tokenizers-0.13.2 transformers-4.27.4\n"
     ]
    },
    {
     "name": "stderr",
     "output_type": "stream",
     "text": [
      "  WARNING: The script huggingface-cli.exe is installed in 'C:\\Users\\shora\\AppData\\Roaming\\Python\\Python39\\Scripts' which is not on PATH.\n",
      "  Consider adding this directory to PATH or, if you prefer to suppress this warning, use --no-warn-script-location.\n",
      "  WARNING: The script transformers-cli.exe is installed in 'C:\\Users\\shora\\AppData\\Roaming\\Python\\Python39\\Scripts' which is not on PATH.\n",
      "  Consider adding this directory to PATH or, if you prefer to suppress this warning, use --no-warn-script-location.\n"
     ]
    }
   ],
   "source": [
    "!pip install transformers"
   ]
  },
  {
   "cell_type": "code",
   "execution_count": 22,
   "id": "eb9df68b",
   "metadata": {},
   "outputs": [],
   "source": [
    "import torch\n",
    "import torch.nn as nn\n",
    "import torch.nn.functional as F\n",
    "import torch.optim as optim\n",
    "from torch.utils.data import Dataset, DataLoader\n",
    "from transformers import BertTokenizer, BertModel"
   ]
  },
  {
   "cell_type": "code",
   "execution_count": 23,
   "id": "6c7f7f8f",
   "metadata": {},
   "outputs": [],
   "source": [
    "bert_tokenizer = BertTokenizer.from_pretrained('bert-base-uncased')\n",
    "class Transformer(nn.Module):\n",
    "    def __init__(self, num_classes):\n",
    "        super(Transformer, self).__init__()\n",
    "        self.bert = BertModel.from_pretrained('bert-base-uncased')\n",
    "        self.fc = nn.Linear(768, num_classes)\n",
    "\n",
    "    def forward(self, input_ids, attention_mask):\n",
    "        bert_output = self.bert(input_ids=input_ids, attention_mask=attention_mask)\n",
    "        pooled_output = bert_output[1]\n",
    "        logits = self.fc(pooled_output)\n",
    "        return logits"
   ]
  },
  {
   "cell_type": "code",
   "execution_count": 24,
   "id": "0577275e",
   "metadata": {
    "scrolled": true
   },
   "outputs": [
    {
     "name": "stderr",
     "output_type": "stream",
     "text": [
      "Some weights of the model checkpoint at bert-base-uncased were not used when initializing BertModel: ['cls.predictions.transform.dense.weight', 'cls.predictions.bias', 'cls.predictions.decoder.weight', 'cls.predictions.transform.LayerNorm.bias', 'cls.predictions.transform.LayerNorm.weight', 'cls.seq_relationship.weight', 'cls.seq_relationship.bias', 'cls.predictions.transform.dense.bias']\n",
      "- This IS expected if you are initializing BertModel from the checkpoint of a model trained on another task or with another architecture (e.g. initializing a BertForSequenceClassification model from a BertForPreTraining model).\n",
      "- This IS NOT expected if you are initializing BertModel from the checkpoint of a model that you expect to be exactly identical (initializing a BertForSequenceClassification model from a BertForSequenceClassification model).\n"
     ]
    },
    {
     "data": {
      "text/plain": [
       "<All keys matched successfully>"
      ]
     },
     "execution_count": 24,
     "metadata": {},
     "output_type": "execute_result"
    }
   ],
   "source": [
    "model = Transformer(num_classes=7)\n",
    "model.load_state_dict(torch.load(\"model.pth\", map_location= torch.device(\"cpu\")))"
   ]
  },
  {
   "cell_type": "code",
   "execution_count": 25,
   "id": "2ef86bf6",
   "metadata": {},
   "outputs": [
    {
     "name": "stdout",
     "output_type": "stream",
     "text": [
      "0\n"
     ]
    }
   ],
   "source": [
    "text = \"The only reason I haven’t killed myself yet is because of my mom and brothers. If I didn’t have them I’d be dead long ago. \"\n",
    "tokens = bert_tokenizer.encode_plus(\n",
    "    text,\n",
    "    max_length=512,\n",
    "    \n",
    "    add_special_tokens=True,\n",
    "    return_token_type_ids=False,\n",
    "    padding='max_length',\n",
    "    return_attention_mask=True,\n",
    "    return_tensors='pt',\n",
    ")\n",
    "output = model((tokens['input_ids']), (tokens['attention_mask']))\n",
    "predicted_label = torch.argmax(output, dim=1).item()\n",
    "print(predicted_label)"
   ]
  },
  {
   "cell_type": "code",
   "execution_count": 26,
   "id": "0b2bb4d5",
   "metadata": {
    "scrolled": true
   },
   "outputs": [
    {
     "name": "stderr",
     "output_type": "stream",
     "text": [
      "100%|██████████| 1/1 [00:00<?, ?it/s]"
     ]
    },
    {
     "name": "stdout",
     "output_type": "stream",
     "text": [
      "1/1 [==============================] - 0s 29ms/step\n"
     ]
    },
    {
     "name": "stderr",
     "output_type": "stream",
     "text": [
      "\n"
     ]
    },
    {
     "data": {
      "text/plain": [
       "0"
      ]
     },
     "execution_count": 26,
     "metadata": {},
     "output_type": "execute_result"
    }
   ],
   "source": [
    "detectSuicide([\"i do not want to live anymore\"])"
   ]
  },
  {
   "cell_type": "code",
   "execution_count": 27,
   "id": "e3eaa9fe",
   "metadata": {},
   "outputs": [
    {
     "ename": "SyntaxError",
     "evalue": "invalid syntax (2067087818.py, line 1)",
     "output_type": "error",
     "traceback": [
      "\u001b[1;36m  File \u001b[1;32m\"C:\\Users\\shora\\AppData\\Local\\Temp\\ipykernel_8224\\2067087818.py\"\u001b[1;36m, line \u001b[1;32m1\u001b[0m\n\u001b[1;33m    i need help just help me im crying so hard. There is no point living now\u001b[0m\n\u001b[1;37m      ^\u001b[0m\n\u001b[1;31mSyntaxError\u001b[0m\u001b[1;31m:\u001b[0m invalid syntax\n"
     ]
    }
   ],
   "source": [
    "i need help just help me im crying so hard. There is no point living now\n",
    "I am miserable .My life is over now.\n",
    "The only reason I haven’t killed myself yet is because of my mom and brothers.If I didn’t have them I’d be dead"
   ]
  },
  {
   "cell_type": "code",
   "execution_count": 28,
   "id": "4619df60",
   "metadata": {},
   "outputs": [],
   "source": [
    "suicide_model.save(\"model_2.h5\")"
   ]
  },
  {
   "cell_type": "code",
   "execution_count": 29,
   "id": "db4745f2",
   "metadata": {},
   "outputs": [
    {
     "data": {
      "text/plain": [
       "'Put opinions here Just say any controversial opinions you have that you want to share. And don’t make fun of others’ opinions. If you don’t agree just ignore.'"
      ]
     },
     "execution_count": 29,
     "metadata": {},
     "output_type": "execute_result"
    }
   ],
   "source": [
    "data[\"text\"][20]"
   ]
  },
  {
   "cell_type": "code",
   "execution_count": 30,
   "id": "078063a7",
   "metadata": {},
   "outputs": [],
   "source": [
    "list= [\"i need helpjust help me im crying so hard\", \"Oh Fuck! can't take this anymore.I am tired of this.\", \"This is it , I can't live anymore.\", \"I am gonna hurt myself\",\n",
    "      \"I do not want to self harm again\", \"It ends tonight.I can’t do it anymore.I quit.\", \"I am endng it .This ends now.\",\n",
    "      \"what would be a painless method of suicide\",\"I want to endmy life\", \"I want to commit suicide\"]"
   ]
  },
  {
   "cell_type": "code",
   "execution_count": null,
   "id": "9fb4cb26",
   "metadata": {},
   "outputs": [],
   "source": [
    "from flask import Flask\n",
    "\n",
    "app = Flask(__name__)\n",
    "\n",
    "@app.route('/')\n",
    "def hello_world():\n",
    "    return 'Hello, World!'\n",
    "\n",
    "if __name__ == '__main__':\n",
    "    app.run()"
   ]
  },
  {
   "cell_type": "code",
   "execution_count": 42,
   "id": "4827233a",
   "metadata": {},
   "outputs": [
    {
     "name": "stdout",
     "output_type": "stream",
     "text": [
      "Defaulting to user installation because normal site-packages is not writeableNote: you may need to restart the kernel to use updated packages.\n",
      "\n",
      "Requirement already satisfied: pymongo in c:\\users\\shora\\appdata\\roaming\\python\\python39\\site-packages (4.3.3)\n",
      "Requirement already satisfied: dnspython<3.0.0,>=1.16.0 in c:\\users\\shora\\appdata\\roaming\\python\\python39\\site-packages (from pymongo) (2.3.0)\n"
     ]
    }
   ],
   "source": [
    "pip install pymongo "
   ]
  },
  {
   "cell_type": "code",
   "execution_count": 46,
   "id": "536cadf3",
   "metadata": {},
   "outputs": [
    {
     "name": "stdout",
     "output_type": "stream",
     "text": [
      " * Serving Flask app \"__main__\" (lazy loading)\n",
      " * Environment: production\n",
      "\u001b[31m   WARNING: This is a development server. Do not use it in a production deployment.\u001b[0m\n",
      "\u001b[2m   Use a production WSGI server instead.\u001b[0m\n",
      " * Debug mode: off\n"
     ]
    },
    {
     "name": "stderr",
     "output_type": "stream",
     "text": [
      " * Running on http://127.0.0.1:5000/ (Press CTRL+C to quit)\n",
      "127.0.0.1 - - [06/Apr/2023 00:02:16] \"GET /favicon.ico HTTP/1.1\" 404 -\n",
      "127.0.0.1 - - [06/Apr/2023 00:02:41] \"POST /login HTTP/1.1\" 200 -\n"
     ]
    },
    {
     "name": "stdout",
     "output_type": "stream",
     "text": [
      "123@gmail.com\n"
     ]
    },
    {
     "name": "stderr",
     "output_type": "stream",
     "text": [
      "127.0.0.1 - - [06/Apr/2023 00:02:41] \"GET /favicon.ico HTTP/1.1\" 404 -\n"
     ]
    },
    {
     "name": "stdout",
     "output_type": "stream",
     "text": [
      "undefined\n",
      "i am happy\n"
     ]
    },
    {
     "name": "stderr",
     "output_type": "stream",
     "text": [
      "100%|██████████| 1/1 [00:00<00:00, 333.70it/s]\n"
     ]
    },
    {
     "name": "stdout",
     "output_type": "stream",
     "text": [
      "1/1 [==============================] - 0s 82ms/step\n"
     ]
    },
    {
     "name": "stderr",
     "output_type": "stream",
     "text": [
      "127.0.0.1 - - [06/Apr/2023 00:03:11] \"POST /model HTTP/1.1\" 200 -\n"
     ]
    },
    {
     "name": "stdout",
     "output_type": "stream",
     "text": [
      "0\n",
      "0\n",
      "undefined\n"
     ]
    },
    {
     "name": "stderr",
     "output_type": "stream",
     "text": [
      "127.0.0.1 - - [06/Apr/2023 00:04:05] \"GET /favicon.ico HTTP/1.1\" 404 -\n",
      "127.0.0.1 - - [06/Apr/2023 00:04:07] \"GET /favicon.ico HTTP/1.1\" 404 -\n",
      "127.0.0.1 - - [06/Apr/2023 00:04:16] \"POST /login HTTP/1.1\" 200 -\n"
     ]
    },
    {
     "name": "stdout",
     "output_type": "stream",
     "text": [
      "123@gmail.com\n"
     ]
    },
    {
     "name": "stderr",
     "output_type": "stream",
     "text": [
      "127.0.0.1 - - [06/Apr/2023 00:04:16] \"GET /favicon.ico HTTP/1.1\" 404 -\n"
     ]
    },
    {
     "name": "stdout",
     "output_type": "stream",
     "text": [
      "[object Object]\n",
      "i am good\n"
     ]
    },
    {
     "name": "stderr",
     "output_type": "stream",
     "text": [
      "100%|██████████| 1/1 [00:00<00:00, 142.95it/s]"
     ]
    },
    {
     "name": "stdout",
     "output_type": "stream",
     "text": [
      "1/1 [==============================] - 0s 46ms/step\n"
     ]
    },
    {
     "name": "stderr",
     "output_type": "stream",
     "text": [
      "\n",
      "127.0.0.1 - - [06/Apr/2023 00:04:27] \"POST /model HTTP/1.1\" 200 -\n"
     ]
    },
    {
     "name": "stdout",
     "output_type": "stream",
     "text": [
      "0\n",
      "0\n",
      "[object Object]\n"
     ]
    },
    {
     "name": "stderr",
     "output_type": "stream",
     "text": [
      "127.0.0.1 - - [06/Apr/2023 00:06:56] \"GET /favicon.ico HTTP/1.1\" 404 -\n",
      "127.0.0.1 - - [06/Apr/2023 00:07:03] \"GET /favicon.ico HTTP/1.1\" 404 -\n",
      "127.0.0.1 - - [06/Apr/2023 00:07:26] \"POST /reg HTTP/1.1\" 200 -\n"
     ]
    }
   ],
   "source": [
    "from flask import Flask, request, jsonify\n",
    "app = Flask(__name__)\n",
    "from pymongo import MongoClient\n",
    "import json\n",
    "\n",
    "client = MongoClient('mongodb://localhost:27017')\n",
    "db = client.serene\n",
    "collection = db.innovates\n",
    "\n",
    "@app.route('/reg', methods=['POST'])\n",
    "def receive_data():\n",
    "    # data = {\n",
    "    #     'Name': request.form.get('Name'),\n",
    "    #     'Email': request.form.get('Email'),\n",
    "    #     'Number': request.form.get('Number'),\n",
    "    #     'Password': request.form.get('Password')\n",
    "    # }\n",
    "    data = request.get_json()  # Get the JSON data sent from the client\n",
    "    # Process the data\n",
    "    #\n",
    "\n",
    "    result = collection.insert_one(data)\n",
    "    res= {\"data\" : \"hello\"}\n",
    "    return jsonify(res)\n",
    "\n",
    "@app.route('/model', methods=['POST'])\n",
    "def model_data():\n",
    "    # data = {\n",
    "    #     'Name': request.form.get('Name'),\n",
    "    #     'Email': request.form.get('Email'),\n",
    "    #     'Number': request.form.get('Number'),\n",
    "    #     'Password': request.form.get('Password')\n",
    "    # }\n",
    "    data = request.get_json()\n",
    "    id = data['id']\n",
    "    id = str(id)\n",
    "    \n",
    "    mail = data['mail']\n",
    "    #print(id)\n",
    "    print(mail)\n",
    "    print(id)\n",
    "    m=detectSuicide([id])   \n",
    "    print(m)\n",
    "    if m==1:\n",
    "        text = id\n",
    "        print(text)\n",
    "        tokens = bert_tokenizer.encode_plus(\n",
    "                        text,\n",
    "                        max_length=512,\n",
    "    \n",
    "                        add_special_tokens=True,\n",
    "                        return_token_type_ids=False,\n",
    "                        padding='max_length',\n",
    "                        return_attention_mask=True,\n",
    "                        return_tensors='pt',\n",
    "                    )\n",
    "        output = model((tokens['input_ids']), (tokens['attention_mask']))\n",
    "        m = int(torch.argmax(output, dim=1).item())\n",
    "        m=m+1\n",
    "    \n",
    "    print(m)\n",
    "    print(mail)\n",
    "    # Get the JSON data sent from the client\n",
    "    # Process the data\n",
    "    # insert value into list in MongoDB\n",
    "\n",
    "#     result = collection.aggregate([\n",
    "#     {\"$unwind\": \"$Mood\"},\n",
    "#     {\"$group\": {\"Email\": mail, \"average\": {\"$avg\": \"Mood\"}}}\n",
    "#     ])\n",
    "    \n",
    "#     #for r in result:\n",
    "#     collection.update_one({\"Email\": mail}, {\"$set\": {\"fitness\": result}})\n",
    "\n",
    "    lst = collection.find_one({'Email': mail })\n",
    "#     mylist = lst['Mood']\n",
    "\n",
    "    \n",
    "    if lst is not None:\n",
    "        # extract mylist array from document\n",
    "        mylist = lst['Mood']\n",
    "        updated_doc = collection.find_one_and_update(\n",
    "        {'Email': mail},\n",
    "        {'$push': {'Mood': m}}\n",
    "        )\n",
    "        \n",
    "        total=0\n",
    "        for i in mylist:\n",
    "            total+=i\n",
    "        avg=total/i+1\n",
    "\n",
    "        #filter = {'Email': ObjectId('document_id')}\n",
    "        update = {'$set': {'fitness': 'avg'}}\n",
    "        result = collection.update_one(lst, update)\n",
    "            \n",
    "        json_data = jsonify(m)\n",
    "        return json_data\n",
    "\n",
    "    # res = {\"data\": \"hello\"}\n",
    "    # return jsonify(id)\n",
    "\n",
    "    else:\n",
    "        # return error response if document not found\n",
    "        return jsonify({'error': 'Document not found'})\n",
    "\n",
    "    # Send a JSON response back to the client\n",
    "# Press the green button in the gutter to run the script.\n",
    "\n",
    "@app.route('/login', methods=['POST'])\n",
    "def login_data():\n",
    "    # data = {\n",
    "    #     'Name': request.form.get('Name'),\n",
    "    #     'Email': request.form.get('Email'),\n",
    "    #     'Number': request.form.get('Number'),\n",
    "    #     'Password': request.form.get('Password')\n",
    "    # }\n",
    "    data = request.get_json()\n",
    "    id1 = data['id']\n",
    "    pas = data['pass']\n",
    "    \n",
    "    # Get the JSON data sent from the client\n",
    "    # Process the data\n",
    "    # insert value into list in MongoDB.\n",
    "    lst = collection.find_one({'Email': id1})\n",
    "    print(id1)\n",
    "    if lst is not None:\n",
    "        # extract mylist array from document\n",
    "        checkpass = lst['Password']\n",
    "        if(str(pas)==checkpass):\n",
    "            return jsonify(id1)\n",
    "            print(\"hello\")\n",
    "        \n",
    "        else:\n",
    "            code={'error' : 'existing user'}\n",
    "            return jsonify(code)\n",
    "    else:\n",
    "        cod = {'error' : 'User doest exists'}\n",
    "        return  jsonify((cod))\n",
    "        # json_data = jsonify(mylist)\n",
    "        # return json_data\n",
    "@app.route('/')\n",
    "def hello_world():\n",
    "    return 'Hello, World!'\n",
    "\n",
    "\n",
    "if __name__ == '__main__':\n",
    "    app.run()\n"
   ]
  },
  {
   "cell_type": "code",
   "execution_count": null,
   "id": "a06444f1",
   "metadata": {},
   "outputs": [
    {
     "name": "stdout",
     "output_type": "stream",
     "text": [
      " * Serving Flask app \"__main__\" (lazy loading)\n",
      " * Environment: production\n",
      "\u001b[31m   WARNING: This is a development server. Do not use it in a production deployment.\u001b[0m\n",
      "\u001b[2m   Use a production WSGI server instead.\u001b[0m\n",
      " * Debug mode: off\n"
     ]
    },
    {
     "name": "stderr",
     "output_type": "stream",
     "text": [
      " * Running on http://127.0.0.1:5000/ (Press CTRL+C to quit)\n",
      "127.0.0.1 - - [06/Apr/2023 07:04:11] \"GET /favicon.ico HTTP/1.1\" 404 -\n",
      "127.0.0.1 - - [06/Apr/2023 07:04:11] \"POST /graph HTTP/1.1\" 200 -\n",
      "127.0.0.1 - - [06/Apr/2023 07:04:11] \"POST /graph HTTP/1.1\" 200 -\n",
      "127.0.0.1 - - [06/Apr/2023 07:04:11] \"GET /home.css HTTP/1.1\" 404 -\n",
      "127.0.0.1 - - [06/Apr/2023 07:04:11] \"GET /playground_assets/pastedimage-no9b-1500h.png HTTP/1.1\" 404 -\n",
      "127.0.0.1 - - [06/Apr/2023 07:08:20] \"POST /graph HTTP/1.1\" 200 -\n",
      "127.0.0.1 - - [06/Apr/2023 07:09:23] \"POST /graph HTTP/1.1\" 200 -\n",
      "127.0.0.1 - - [06/Apr/2023 07:09:28] \"GET /favicon.ico HTTP/1.1\" 404 -\n",
      "127.0.0.1 - - [06/Apr/2023 07:09:28] \"POST /graph HTTP/1.1\" 200 -\n",
      "127.0.0.1 - - [06/Apr/2023 07:09:28] \"POST /graph HTTP/1.1\" 200 -\n",
      "127.0.0.1 - - [06/Apr/2023 07:09:28] \"GET /home.css HTTP/1.1\" 404 -\n",
      "127.0.0.1 - - [06/Apr/2023 07:09:28] \"GET /playground_assets/pastedimage-no9b-1500h.png HTTP/1.1\" 404 -\n",
      "127.0.0.1 - - [06/Apr/2023 07:10:30] \"POST /graph HTTP/1.1\" 200 -\n",
      "127.0.0.1 - - [06/Apr/2023 07:10:48] \"POST /graph HTTP/1.1\" 200 -\n",
      "127.0.0.1 - - [06/Apr/2023 07:12:07] \"POST /graph HTTP/1.1\" 200 -\n",
      "127.0.0.1 - - [06/Apr/2023 07:12:19] \"POST /graph HTTP/1.1\" 200 -\n",
      "127.0.0.1 - - [06/Apr/2023 07:12:42] \"POST /graph HTTP/1.1\" 200 -\n",
      "127.0.0.1 - - [06/Apr/2023 07:12:59] \"POST /graph HTTP/1.1\" 200 -\n",
      "127.0.0.1 - - [06/Apr/2023 07:13:07] \"POST /graph HTTP/1.1\" 200 -\n",
      "127.0.0.1 - - [06/Apr/2023 07:13:41] \"POST /graph HTTP/1.1\" 200 -\n",
      "127.0.0.1 - - [06/Apr/2023 07:14:53] \"POST /graph HTTP/1.1\" 200 -\n",
      "127.0.0.1 - - [06/Apr/2023 07:16:22] \"GET /favicon.ico HTTP/1.1\" 404 -\n",
      "127.0.0.1 - - [06/Apr/2023 07:17:25] \"GET /favicon.ico HTTP/1.1\" 404 -\n",
      "127.0.0.1 - - [06/Apr/2023 07:17:25] \"POST /graph HTTP/1.1\" 200 -\n",
      "127.0.0.1 - - [06/Apr/2023 07:17:25] \"POST /graph HTTP/1.1\" 200 -\n",
      "127.0.0.1 - - [06/Apr/2023 07:17:25] \"GET /home.css HTTP/1.1\" 404 -\n",
      "127.0.0.1 - - [06/Apr/2023 07:17:25] \"GET /playground_assets/pastedimage-no9b-1500h.png HTTP/1.1\" 404 -\n",
      "127.0.0.1 - - [06/Apr/2023 07:17:36] \"GET /favicon.ico HTTP/1.1\" 404 -\n",
      "127.0.0.1 - - [06/Apr/2023 07:23:32] \"GET /favicon.ico HTTP/1.1\" 404 -\n",
      "127.0.0.1 - - [06/Apr/2023 07:27:43] \"GET /favicon.ico HTTP/1.1\" 404 -\n",
      "127.0.0.1 - - [06/Apr/2023 07:36:03] \"GET /favicon.ico HTTP/1.1\" 404 -\n",
      "127.0.0.1 - - [06/Apr/2023 07:36:57] \"GET /favicon.ico HTTP/1.1\" 404 -\n",
      "127.0.0.1 - - [06/Apr/2023 07:38:36] \"GET /favicon.ico HTTP/1.1\" 404 -\n",
      "127.0.0.1 - - [06/Apr/2023 07:39:02] \"GET /favicon.ico HTTP/1.1\" 404 -\n",
      "127.0.0.1 - - [06/Apr/2023 07:39:09] \"GET /favicon.ico HTTP/1.1\" 404 -\n",
      "127.0.0.1 - - [06/Apr/2023 07:41:42] \"GET /favicon.ico HTTP/1.1\" 404 -\n",
      "127.0.0.1 - - [06/Apr/2023 07:43:54] \"GET /favicon.ico HTTP/1.1\" 404 -\n",
      "127.0.0.1 - - [06/Apr/2023 07:46:00] \"GET /favicon.ico HTTP/1.1\" 404 -\n",
      "127.0.0.1 - - [06/Apr/2023 07:54:03] \"GET /favicon.ico HTTP/1.1\" 404 -\n",
      "127.0.0.1 - - [06/Apr/2023 07:57:45] \"GET /favicon.ico HTTP/1.1\" 404 -\n",
      "127.0.0.1 - - [06/Apr/2023 07:57:50] \"GET /favicon.ico HTTP/1.1\" 404 -\n",
      "127.0.0.1 - - [06/Apr/2023 08:02:10] \"GET /favicon.ico HTTP/1.1\" 404 -\n",
      "127.0.0.1 - - [06/Apr/2023 08:02:23] \"GET /favicon.ico HTTP/1.1\" 404 -\n",
      "127.0.0.1 - - [06/Apr/2023 08:03:24] \"GET /favicon.ico HTTP/1.1\" 404 -\n",
      "127.0.0.1 - - [06/Apr/2023 08:03:24] \"POST /graph HTTP/1.1\" 200 -\n",
      "127.0.0.1 - - [06/Apr/2023 08:03:24] \"POST /graph HTTP/1.1\" 200 -\n",
      "127.0.0.1 - - [06/Apr/2023 08:03:24] \"GET /home.css HTTP/1.1\" 404 -\n",
      "127.0.0.1 - - [06/Apr/2023 08:03:24] \"GET /playground_assets/pastedimage-no9b-1500h.png HTTP/1.1\" 404 -\n",
      "127.0.0.1 - - [06/Apr/2023 08:06:38] \"GET /favicon.ico HTTP/1.1\" 404 -\n",
      "127.0.0.1 - - [06/Apr/2023 08:07:03] \"GET /favicon.ico HTTP/1.1\" 404 -\n",
      "127.0.0.1 - - [06/Apr/2023 08:07:03] \"POST /graph HTTP/1.1\" 200 -\n",
      "127.0.0.1 - - [06/Apr/2023 08:07:03] \"POST /graph HTTP/1.1\" 200 -\n",
      "127.0.0.1 - - [06/Apr/2023 08:07:03] \"GET /home.css HTTP/1.1\" 404 -\n",
      "127.0.0.1 - - [06/Apr/2023 08:07:03] \"GET /playground_assets/pastedimage-no9b-1500h.png HTTP/1.1\" 404 -\n",
      "127.0.0.1 - - [06/Apr/2023 08:07:23] \"GET /favicon.ico HTTP/1.1\" 404 -\n",
      "127.0.0.1 - - [06/Apr/2023 08:10:23] \"GET /favicon.ico HTTP/1.1\" 404 -\n"
     ]
    }
   ],
   "source": [
    "from flask import Flask, request, jsonify\n",
    "import pandas as pd\n",
    "app = Flask(__name__)\n",
    "from pymongo import MongoClient\n",
    "import json\n",
    "\n",
    "client = MongoClient('mongodb://localhost:27017')\n",
    "db = client.serene\n",
    "collection = db.users\n",
    "\n",
    "@app.route('/reg', methods=['POST'])\n",
    "def receive_data():\n",
    "    # data = {\n",
    "    #     'Name': request.form.get('Name'),\n",
    "    #     'Email': request.form.get('Email'),\n",
    "    #     'Number': request.form.get('Number'),\n",
    "    #     'Password': request.form.get('Password')\n",
    "    # }\n",
    "    data = request.get_json()  # Get the JSON data sent from the client\n",
    "    # Process the data\n",
    "    #\n",
    "\n",
    "    result = collection.insert_one(data)\n",
    "    res= {\"data\" : \"hello\"}\n",
    "    return jsonify(res)\n",
    "@app.route('/model', methods=['POST'])\n",
    "def model_data():\n",
    "    # data = {\n",
    "    #     'Name': request.form.get('Name'),\n",
    "    #     'Email': request.form.get('Email'),\n",
    "    #     'Number': request.form.get('Number'),\n",
    "    #     'Password': request.form.get('Password')\n",
    "    # }\n",
    "    data = request.get_json()\n",
    "    id = data['id']\n",
    "    id = str(id)\n",
    "    mail = data['mail']\n",
    "    print(id)\n",
    "    \n",
    "    df = pd.read_csv('pulse.csv')\n",
    "    dff=df['rate']\n",
    "\n",
    "    m = detectSuicide([id])   \n",
    "    for i in dff:\n",
    "        up_doc = collection.find_one_and_update(\n",
    "            {'Email': mail},\n",
    "            {'$push': {'Pulse': i}}\n",
    "        )\n",
    "        \n",
    "    print(m)\n",
    "    if m==1:\n",
    "        text = id\n",
    "        print(text)\n",
    "        tokens = bert_tokenizer.encode_plus(\n",
    "                        text,\n",
    "                        max_length=512,\n",
    "    \n",
    "                        add_special_tokens=True,\n",
    "                        return_token_type_ids=False,\n",
    "                        padding='max_length',\n",
    "                        return_attention_mask=True,\n",
    "                        return_tensors='pt',\n",
    "                    )\n",
    "        output = model((tokens['input_ids']), (tokens['attention_mask']))\n",
    "        m = int(torch.argmax(output, dim=1).item())\n",
    "        m=m+1\n",
    "    \n",
    "    print(m)\n",
    "    print(mail)\n",
    "    # Get the JSON data sent from the client\n",
    "    # Process the data\n",
    "    # insert value into list in MongoDB\n",
    "    updated_doc = collection.find_one_and_update(\n",
    "        {'Email': mail},\n",
    "        {'$push': {'Mood': m}}\n",
    "    )\n",
    "\n",
    "    lst = collection.find_one({'Email': mail })\n",
    "    if lst is not None:\n",
    "        # extract mylist array from document\n",
    "#         mylist = lst['Mood']\n",
    "        json_data = jsonify(m)\n",
    "        return json_data\n",
    "\n",
    "    # res = {\"data\": \"hello\"}\n",
    "    # return jsonify(id)\n",
    "\n",
    "    else:\n",
    "        # return error response if document not found\n",
    "        return jsonify({'error': 'Document not found'})\n",
    "\n",
    "    # Send a JSON response back to the client\n",
    "# Press the green button in the gutter to run the script.\n",
    "\n",
    "@app.route('/login', methods=['POST'])\n",
    "def login_data():\n",
    "    # data = {\n",
    "    #     'Name': request.form.get('Name'),\n",
    "    #     'Email': request.form.get('Email'),\n",
    "    #     'Number': request.form.get('Number'),\n",
    "    #     'Password': request.form.get('Password')\n",
    "    # }\n",
    "    data = request.get_json()\n",
    "    id = data['id']\n",
    "    pas = data['pass']\n",
    "    \n",
    "    # Get the JSON data sent from the client\n",
    "    # Process the data\n",
    "    # insert value into list in MongoDB.\n",
    "    lst = collection.find_one({'Email': id})\n",
    "    if lst is not None:\n",
    "        # extract mylist array from document\n",
    "        checkpass = lst['Password']\n",
    "        if(str(pas)==checkpass):\n",
    "            return jsonify(id)\n",
    "        else:\n",
    "            code={'error' : 'existing user'}\n",
    "            return jsonify(code)\n",
    "    else:\n",
    "        cod = {'error' : 'User doest exists'}\n",
    "        return  jsonify((cod))\n",
    "        # json_data = jsonify(mylist)\n",
    "        # return json_data\n",
    "\n",
    "@app.route('/graph', methods=['POST'])\n",
    "def chart_data():\n",
    "    # data = {\n",
    "    #     'Name': request.form.get('Name'),\n",
    "    #     'Email': request.form.get('Email'),\n",
    "    #     'Number': request.form.get('Number'),\n",
    "    #     'Password': request.form.get('Password')\n",
    "    # }\n",
    "    data = request.get_json()\n",
    "    id1 = data\n",
    "    \n",
    "    # Get the JSON data sent from the client\n",
    "    # Process the data\n",
    "    # insert value into list in MongoDB.\n",
    "    lst = collection.find_one({'Email': id1})\n",
    "    if lst is not None:\n",
    "        # extract mylist array from document\n",
    "        md = lst['Mood']\n",
    "        return jsonify(md)\n",
    "    else:\n",
    "        cod = {'error' : 'User doest exists'}\n",
    "        return  jsonify((cod))        \n",
    "        \n",
    "        \n",
    "@app.route('/')\n",
    "def hello_world():\n",
    "    return 'Hello, World!'\n",
    "\n",
    "\n",
    "if __name__ == '__main__':\n",
    "    app.run()"
   ]
  },
  {
   "cell_type": "code",
   "execution_count": null,
   "id": "e36ef3f0",
   "metadata": {},
   "outputs": [],
   "source": []
  }
 ],
 "metadata": {
  "kernelspec": {
   "display_name": "Python 3 (ipykernel)",
   "language": "python",
   "name": "python3"
  },
  "language_info": {
   "codemirror_mode": {
    "name": "ipython",
    "version": 3
   },
   "file_extension": ".py",
   "mimetype": "text/x-python",
   "name": "python",
   "nbconvert_exporter": "python",
   "pygments_lexer": "ipython3",
   "version": "3.9.13"
  },
  "papermill": {
   "default_parameters": {},
   "duration": 347.311322,
   "end_time": "2021-07-13T18:10:23.127920",
   "environment_variables": {},
   "exception": null,
   "input_path": "__notebook__.ipynb",
   "output_path": "__notebook__.ipynb",
   "parameters": {},
   "start_time": "2021-07-13T18:04:35.816598",
   "version": "2.3.3"
  }
 },
 "nbformat": 4,
 "nbformat_minor": 5
}
